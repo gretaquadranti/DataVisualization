{
 "cells": [
  {
   "cell_type": "markdown",
   "metadata": {},
   "source": [
    "## Libraries import"
   ]
  },
  {
   "cell_type": "code",
   "execution_count": null,
   "metadata": {},
   "outputs": [],
   "source": [
    "import zipfile\n",
    "import os\n",
    "import matplotlib.pyplot as plt\n",
    "\n",
    "\n",
    "#per poter gestire file csv\n",
    "import pandas as pd"
   ]
  },
  {
   "cell_type": "markdown",
   "metadata": {},
   "source": [
    "download dataset from  kaggle: https://www.kaggle.com/datasets/uom190346a/sleep-health-and-lifestyle-dataset"
   ]
  },
  {
   "cell_type": "code",
   "execution_count": 1,
   "metadata": {},
   "outputs": [
    {
     "name": "stdout",
     "output_type": "stream",
     "text": [
      "Warning: Looks like you're using an outdated API Version, please consider updating (server 1.6.17 / client 1.6.14)\n",
      "Dataset URL: https://www.kaggle.com/datasets/uom190346a/sleep-health-and-lifestyle-dataset\n",
      "License(s): CC0-1.0\n",
      "Downloading sleep-health-and-lifestyle-dataset.zip to c:\\Users\\Greta\\AppData\\Local\\Programs\\Microsoft VS Code\n",
      "\n"
     ]
    },
    {
     "name": "stderr",
     "output_type": "stream",
     "text": [
      "\n",
      "  0%|          | 0.00/2.54k [00:00<?, ?B/s]\n",
      "100%|██████████| 2.54k/2.54k [00:00<00:00, 2.50MB/s]\n"
     ]
    }
   ],
   "source": [
    "!kaggle datasets download uom190346a/sleep-health-and-lifestyle-dataset"
   ]
  },
  {
   "cell_type": "markdown",
   "metadata": {},
   "source": [
    "SPIEGARE COME è FATTO IL DATASET"
   ]
  },
  {
   "cell_type": "markdown",
   "metadata": {},
   "source": [
    "### Extract and unzip dataset"
   ]
  },
  {
   "cell_type": "code",
   "execution_count": 33,
   "metadata": {},
   "outputs": [],
   "source": [
    "zip_path = r\"C:\\Users\\Greta\\AppData\\Local\\Programs\\Microsoft VS Code\\sleep-health-and-lifestyle-dataset.zip\"\n",
    "final_path = r\"C:\\Users\\Greta\\Desktop\\Sleep_Data\" \n",
    "\n",
    "# Crea la directory di destinazione se non esiste\n",
    "os.makedirs(final_path, exist_ok=True)\n",
    "\n",
    "\n",
    "with zipfile.ZipFile(zip_path, 'r') as zip_ref:\n",
    "    zip_ref.extractall(final_path)"
   ]
  },
  {
   "cell_type": "code",
   "execution_count": 34,
   "metadata": {},
   "outputs": [],
   "source": [
    "dataset = r\"C:\\Users\\Greta\\Desktop\\Sleep_Data\\Sleep_health_and_lifestyle_dataset.csv\" \n",
    "# Carica i dati in un DataFrame\n",
    "df = pd.read_csv(dataset)"
   ]
  },
  {
   "cell_type": "markdown",
   "metadata": {},
   "source": [
    "# Data visualization:"
   ]
  },
  {
   "cell_type": "code",
   "execution_count": 35,
   "metadata": {},
   "outputs": [
    {
     "name": "stdout",
     "output_type": "stream",
     "text": [
      "Index(['Person ID', 'Gender', 'Age', 'Occupation', 'Sleep Duration',\n",
      "       'Quality of Sleep', 'Physical Activity Level', 'Stress Level',\n",
      "       'BMI Category', 'Blood Pressure', 'Heart Rate', 'Daily Steps',\n",
      "       'Sleep Disorder'],\n",
      "      dtype='object')\n"
     ]
    }
   ],
   "source": [
    "print(df.columns)"
   ]
  },
  {
   "cell_type": "code",
   "execution_count": null,
   "metadata": {},
   "outputs": [
    {
     "name": "stdout",
     "output_type": "stream",
     "text": [
      "Person ID                                     4\n",
      "Gender                                     Male\n",
      "Age                                          28\n",
      "Occupation                 Sales Representative\n",
      "Sleep Duration                              5.9\n",
      "Quality of Sleep                              4\n",
      "Physical Activity Level                      30\n",
      "Stress Level                                  8\n",
      "BMI Category                              Obese\n",
      "Blood Pressure                           140/90\n",
      "Heart Rate                                   85\n",
      "Daily Steps                                3000\n",
      "Sleep Disorder                      Sleep Apnea\n",
      "Name: 3, dtype: object\n"
     ]
    }
   ],
   "source": [
    "# per vedere terza riga del datafrrame\n",
    "print(df.iloc[3])"
   ]
  },
  {
   "cell_type": "code",
   "execution_count": 38,
   "metadata": {},
   "outputs": [
    {
     "name": "stdout",
     "output_type": "stream",
     "text": [
      "0      6.1\n",
      "1      6.2\n",
      "2      6.2\n",
      "3      5.9\n",
      "4      5.9\n",
      "      ... \n",
      "369    8.1\n",
      "370    8.0\n",
      "371    8.1\n",
      "372    8.1\n",
      "373    8.1\n",
      "Name: Sleep Duration, Length: 374, dtype: float64\n"
     ]
    }
   ],
   "source": [
    "print(df.iloc[:,4]) #accedere alle colonne"
   ]
  },
  {
   "cell_type": "code",
   "execution_count": 39,
   "metadata": {},
   "outputs": [
    {
     "name": "stdout",
     "output_type": "stream",
     "text": [
      "0      Overweight\n",
      "1          Normal\n",
      "2          Normal\n",
      "3           Obese\n",
      "4           Obese\n",
      "          ...    \n",
      "369    Overweight\n",
      "370    Overweight\n",
      "371    Overweight\n",
      "372    Overweight\n",
      "373    Overweight\n",
      "Name: BMI Category, Length: 374, dtype: object\n"
     ]
    }
   ],
   "source": [
    "BMI= df.iloc[:,8]\n",
    "print(df.iloc[:,8]) #accedere alle colonne"
   ]
  }
 ],
 "metadata": {
  "kernelspec": {
   "display_name": "Python 3",
   "language": "python",
   "name": "python3"
  },
  "language_info": {
   "codemirror_mode": {
    "name": "ipython",
    "version": 3
   },
   "file_extension": ".py",
   "mimetype": "text/x-python",
   "name": "python",
   "nbconvert_exporter": "python",
   "pygments_lexer": "ipython3",
   "version": "3.10.2"
  }
 },
 "nbformat": 4,
 "nbformat_minor": 2
}
